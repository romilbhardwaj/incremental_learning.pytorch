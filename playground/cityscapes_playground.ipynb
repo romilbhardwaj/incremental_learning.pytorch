{
 "cells": [
  {
   "cell_type": "markdown",
   "metadata": {},
   "source": [
    "# Cityscapes playground"
   ]
  },
  {
   "cell_type": "code",
   "execution_count": 1,
   "metadata": {},
   "outputs": [],
   "source": [
    "from inclearn.lib.CityscapesClassification import CityscapesClassification\n",
    "import os"
   ]
  },
  {
   "cell_type": "code",
   "execution_count": 2,
   "metadata": {},
   "outputs": [],
   "source": [
    "root = '/home/romilb/datasets/cityscapes'"
   ]
  },
  {
   "cell_type": "code",
   "execution_count": null,
   "metadata": {},
   "outputs": [],
   "source": [
    "x=CityscapesClassification.generate_sample_list(root, mode='fine', write_filename=\"pedvehicle\")"
   ]
  },
  {
   "cell_type": "code",
   "execution_count": 3,
   "metadata": {},
   "outputs": [
    {
     "name": "stdout",
     "output_type": "stream",
     "text": [
      "Using data cache: False\n"
     ]
    }
   ],
   "source": [
    "d=CityscapesClassification(root, os.path.join(root, 'sample_lists/pedvehicle'),\n",
    "                          subsample_idxs=None)"
   ]
  },
  {
   "cell_type": "code",
   "execution_count": null,
   "metadata": {
    "scrolled": true
   },
   "outputs": [],
   "source": [
    "d.samples"
   ]
  },
  {
   "cell_type": "code",
   "execution_count": null,
   "metadata": {},
   "outputs": [],
   "source": [
    "samples_df = d.samples"
   ]
  },
  {
   "cell_type": "code",
   "execution_count": null,
   "metadata": {},
   "outputs": [],
   "source": [
    "import numpy as np\n",
    "def get_idx_order(samples_df, num_tasks):\n",
    "    # Generates the idx ordering for sample incremental task\n",
    "    # Use this to populate the _taskid_to_idxs_maps to contain the idxs to be provided for each task increment\n",
    "    # Selects N/num_tasks samples per class for k classes, where N is the number of samples per class\n",
    "    classid_to_idx_map = {}\n",
    "    y = samples_df[\"class\"].values\n",
    "    for class_id in np.unique(y):\n",
    "        classid_to_idx_map[class_id] = samples_df[samples_df[\"class\"] == class_id][\"idx\"].values\n",
    "\n",
    "    idx_order = {}\n",
    "    for t in range(0, num_tasks):\n",
    "        idx_order[t] = []   #temporary list, later concat into single vector\n",
    "        for class_id, class_idxs in classid_to_idx_map.items():\n",
    "            samples_per_task = int(len(class_idxs) / num_tasks)\n",
    "            idx_order[t].append(class_idxs[t*samples_per_task:(t+1)*samples_per_task])\n",
    "\n",
    "        if idx_order[t]:    # If any elements in the list, concat into numpy arr\n",
    "            idx_order[t] = np.concatenate(idx_order[t])\n",
    "\n",
    "    return idx_order"
   ]
  },
  {
   "cell_type": "code",
   "execution_count": null,
   "metadata": {},
   "outputs": [],
   "source": [
    "x=samples_df[samples_df[\"class\"] == 1].index.values"
   ]
  },
  {
   "cell_type": "code",
   "execution_count": null,
   "metadata": {},
   "outputs": [],
   "source": [
    "classid_to_idx_map = {}\n",
    "y = samples_df[\"class\"].values\n",
    "for class_id in np.unique(y):\n",
    "    classid_to_idx_map[class_id] = samples_df[samples_df[\"class\"] == class_id][\"idx\"].values\n",
    "samples_df.loc[classid_to_idx_map[1]][\"class\"].unique()"
   ]
  },
  {
   "cell_type": "code",
   "execution_count": null,
   "metadata": {},
   "outputs": [],
   "source": [
    "a=get_idx_order(samples_df,10)\n",
    "import matplotlib.pyplot as plt\n",
    "plt.hist(samples_df.loc[a[0]][\"class\"].values)"
   ]
  },
  {
   "cell_type": "code",
   "execution_count": null,
   "metadata": {},
   "outputs": [],
   "source": [
    "classid_to_idx_map[0]"
   ]
  },
  {
   "cell_type": "code",
   "execution_count": null,
   "metadata": {},
   "outputs": [],
   "source": [
    "samples_df.loc[a[0]]"
   ]
  },
  {
   "cell_type": "code",
   "execution_count": null,
   "metadata": {},
   "outputs": [],
   "source": [
    "a[0]"
   ]
  },
  {
   "cell_type": "code",
   "execution_count": null,
   "metadata": {},
   "outputs": [],
   "source": [
    "samples_df.set_index(\"idx\", inplace=True)"
   ]
  },
  {
   "cell_type": "code",
   "execution_count": null,
   "metadata": {},
   "outputs": [],
   "source": [
    "samples_df.loc[[10,2]][\"idx\"]"
   ]
  },
  {
   "cell_type": "code",
   "execution_count": null,
   "metadata": {},
   "outputs": [],
   "source": []
  },
  {
   "cell_type": "markdown",
   "metadata": {},
   "source": [
    "# Incremental cityscapes"
   ]
  },
  {
   "cell_type": "code",
   "execution_count": 2,
   "metadata": {},
   "outputs": [],
   "source": [
    "from inclearn.lib.data import IncrementalDataset"
   ]
  },
  {
   "cell_type": "code",
   "execution_count": 3,
   "metadata": {},
   "outputs": [],
   "source": [
    "root = '/media/romilb/NEW VOLUME/cityscapes/dataset'\n",
    "sample_list_name = 'pedvehicle'"
   ]
  },
  {
   "cell_type": "code",
   "execution_count": 4,
   "metadata": {},
   "outputs": [],
   "source": [
    "y=IncrementalDataset(\"cityscapes\", root=root, sample_list_name=sample_list_name, workers=10)"
   ]
  },
  {
   "cell_type": "code",
   "execution_count": 7,
   "metadata": {},
   "outputs": [
    {
     "data": {
      "text/plain": [
       "43114"
      ]
     },
     "execution_count": 7,
     "metadata": {},
     "output_type": "execute_result"
    }
   ],
   "source": [
    "len(y.train_dataset)"
   ]
  },
  {
   "cell_type": "code",
   "execution_count": 8,
   "metadata": {},
   "outputs": [
    {
     "name": "stdout",
     "output_type": "stream",
     "text": [
      "Initializing indexes for sample incremental\n"
     ]
    }
   ],
   "source": [
    "task_info, train_loader, val_loader, test_loader = y.new_task_incr()"
   ]
  },
  {
   "cell_type": "code",
   "execution_count": 13,
   "metadata": {},
   "outputs": [],
   "source": [
    "x=y.train_dataset.transform"
   ]
  },
  {
   "cell_type": "code",
   "execution_count": 15,
   "metadata": {},
   "outputs": [
    {
     "data": {
      "text/plain": [
       "34"
      ]
     },
     "execution_count": 15,
     "metadata": {},
     "output_type": "execute_result"
    }
   ],
   "source": [
    "len(train_loader)"
   ]
  },
  {
   "cell_type": "code",
   "execution_count": 9,
   "metadata": {},
   "outputs": [
    {
     "ename": "TypeError",
     "evalue": "Traceback (most recent call last):\n  File \"/home/romilb/anaconda3/lib/python3.7/site-packages/torch/utils/data/_utils/worker.py\", line 99, in _worker_loop\n    samples = collate_fn([dataset[i] for i in batch_indices])\n  File \"/home/romilb/anaconda3/lib/python3.7/site-packages/torch/utils/data/_utils/worker.py\", line 99, in <listcomp>\n    samples = collate_fn([dataset[i] for i in batch_indices])\n  File \"/home/romilb/research/msr/incremental_learning.pytorch/inclearn/lib/CityscapesClassification.py\", line 65, in __getitem__\n    cropped = self.transform(cropped)\n  File \"/home/romilb/anaconda3/lib/python3.7/site-packages/torchvision/transforms/transforms.py\", line 61, in __call__\n    img = t(img)\nTypeError: 'list' object is not callable\n",
     "output_type": "error",
     "traceback": [
      "\u001b[0;31m---------------------------------------------------------------------------\u001b[0m",
      "\u001b[0;31mTypeError\u001b[0m                                 Traceback (most recent call last)",
      "\u001b[0;32m<ipython-input-9-d4ce0d163177>\u001b[0m in \u001b[0;36m<module>\u001b[0;34m()\u001b[0m\n\u001b[0;32m----> 1\u001b[0;31m \u001b[0mx\u001b[0m\u001b[0;34m=\u001b[0m\u001b[0mnext\u001b[0m\u001b[0;34m(\u001b[0m\u001b[0miter\u001b[0m\u001b[0;34m(\u001b[0m\u001b[0mtrain_loader\u001b[0m\u001b[0;34m)\u001b[0m\u001b[0;34m)\u001b[0m\u001b[0;34m\u001b[0m\u001b[0;34m\u001b[0m\u001b[0m\n\u001b[0m",
      "\u001b[0;32m~/anaconda3/lib/python3.7/site-packages/torch/utils/data/dataloader.py\u001b[0m in \u001b[0;36m__next__\u001b[0;34m(self)\u001b[0m\n\u001b[1;32m    580\u001b[0m                 \u001b[0mself\u001b[0m\u001b[0;34m.\u001b[0m\u001b[0mreorder_dict\u001b[0m\u001b[0;34m[\u001b[0m\u001b[0midx\u001b[0m\u001b[0;34m]\u001b[0m \u001b[0;34m=\u001b[0m \u001b[0mbatch\u001b[0m\u001b[0;34m\u001b[0m\u001b[0;34m\u001b[0m\u001b[0m\n\u001b[1;32m    581\u001b[0m                 \u001b[0;32mcontinue\u001b[0m\u001b[0;34m\u001b[0m\u001b[0;34m\u001b[0m\u001b[0m\n\u001b[0;32m--> 582\u001b[0;31m             \u001b[0;32mreturn\u001b[0m \u001b[0mself\u001b[0m\u001b[0;34m.\u001b[0m\u001b[0m_process_next_batch\u001b[0m\u001b[0;34m(\u001b[0m\u001b[0mbatch\u001b[0m\u001b[0;34m)\u001b[0m\u001b[0;34m\u001b[0m\u001b[0;34m\u001b[0m\u001b[0m\n\u001b[0m\u001b[1;32m    583\u001b[0m \u001b[0;34m\u001b[0m\u001b[0m\n\u001b[1;32m    584\u001b[0m     \u001b[0mnext\u001b[0m \u001b[0;34m=\u001b[0m \u001b[0m__next__\u001b[0m  \u001b[0;31m# Python 2 compatibility\u001b[0m\u001b[0;34m\u001b[0m\u001b[0;34m\u001b[0m\u001b[0m\n",
      "\u001b[0;32m~/anaconda3/lib/python3.7/site-packages/torch/utils/data/dataloader.py\u001b[0m in \u001b[0;36m_process_next_batch\u001b[0;34m(self, batch)\u001b[0m\n\u001b[1;32m    606\u001b[0m                 \u001b[0;32mraise\u001b[0m \u001b[0mException\u001b[0m\u001b[0;34m(\u001b[0m\u001b[0;34m\"KeyError:\"\u001b[0m \u001b[0;34m+\u001b[0m \u001b[0mbatch\u001b[0m\u001b[0;34m.\u001b[0m\u001b[0mexc_msg\u001b[0m\u001b[0;34m)\u001b[0m\u001b[0;34m\u001b[0m\u001b[0;34m\u001b[0m\u001b[0m\n\u001b[1;32m    607\u001b[0m             \u001b[0;32melse\u001b[0m\u001b[0;34m:\u001b[0m\u001b[0;34m\u001b[0m\u001b[0;34m\u001b[0m\u001b[0m\n\u001b[0;32m--> 608\u001b[0;31m                 \u001b[0;32mraise\u001b[0m \u001b[0mbatch\u001b[0m\u001b[0;34m.\u001b[0m\u001b[0mexc_type\u001b[0m\u001b[0;34m(\u001b[0m\u001b[0mbatch\u001b[0m\u001b[0;34m.\u001b[0m\u001b[0mexc_msg\u001b[0m\u001b[0;34m)\u001b[0m\u001b[0;34m\u001b[0m\u001b[0;34m\u001b[0m\u001b[0m\n\u001b[0m\u001b[1;32m    609\u001b[0m         \u001b[0;32mreturn\u001b[0m \u001b[0mbatch\u001b[0m\u001b[0;34m\u001b[0m\u001b[0;34m\u001b[0m\u001b[0m\n\u001b[1;32m    610\u001b[0m \u001b[0;34m\u001b[0m\u001b[0m\n",
      "\u001b[0;31mTypeError\u001b[0m: Traceback (most recent call last):\n  File \"/home/romilb/anaconda3/lib/python3.7/site-packages/torch/utils/data/_utils/worker.py\", line 99, in _worker_loop\n    samples = collate_fn([dataset[i] for i in batch_indices])\n  File \"/home/romilb/anaconda3/lib/python3.7/site-packages/torch/utils/data/_utils/worker.py\", line 99, in <listcomp>\n    samples = collate_fn([dataset[i] for i in batch_indices])\n  File \"/home/romilb/research/msr/incremental_learning.pytorch/inclearn/lib/CityscapesClassification.py\", line 65, in __getitem__\n    cropped = self.transform(cropped)\n  File \"/home/romilb/anaconda3/lib/python3.7/site-packages/torchvision/transforms/transforms.py\", line 61, in __call__\n    img = t(img)\nTypeError: 'list' object is not callable\n"
     ]
    }
   ],
   "source": [
    "x=next(iter(train_loader))"
   ]
  },
  {
   "cell_type": "code",
   "execution_count": 7,
   "metadata": {},
   "outputs": [
    {
     "data": {
      "text/plain": [
       "[tensor([[[[0.1804, 0.1804, 0.1804,  ..., 0.3882, 0.3882, 0.3882],\n",
       "           [0.1804, 0.1804, 0.1804,  ..., 0.3882, 0.3882, 0.3882],\n",
       "           [0.1804, 0.1804, 0.1804,  ..., 0.3882, 0.3882, 0.3882],\n",
       "           ...,\n",
       "           [0.2078, 0.2078, 0.2078,  ..., 0.1686, 0.1686, 0.1686],\n",
       "           [0.2078, 0.2078, 0.2078,  ..., 0.1686, 0.1686, 0.1686],\n",
       "           [0.2078, 0.2078, 0.2078,  ..., 0.1686, 0.1686, 0.1686]],\n",
       " \n",
       "          [[0.2078, 0.2078, 0.2078,  ..., 0.4627, 0.4627, 0.4627],\n",
       "           [0.2078, 0.2078, 0.2078,  ..., 0.4627, 0.4627, 0.4627],\n",
       "           [0.2078, 0.2078, 0.2078,  ..., 0.4627, 0.4627, 0.4627],\n",
       "           ...,\n",
       "           [0.2314, 0.2314, 0.2314,  ..., 0.2275, 0.2275, 0.2275],\n",
       "           [0.2314, 0.2314, 0.2314,  ..., 0.2275, 0.2275, 0.2275],\n",
       "           [0.2314, 0.2314, 0.2314,  ..., 0.2275, 0.2275, 0.2275]],\n",
       " \n",
       "          [[0.1725, 0.1725, 0.1725,  ..., 0.4118, 0.4118, 0.4118],\n",
       "           [0.1725, 0.1725, 0.1725,  ..., 0.4118, 0.4118, 0.4118],\n",
       "           [0.1725, 0.1725, 0.1725,  ..., 0.4118, 0.4118, 0.4118],\n",
       "           ...,\n",
       "           [0.1922, 0.1922, 0.1922,  ..., 0.1882, 0.1882, 0.1882],\n",
       "           [0.1922, 0.1922, 0.1922,  ..., 0.1882, 0.1882, 0.1882],\n",
       "           [0.1922, 0.1922, 0.1922,  ..., 0.1882, 0.1882, 0.1882]]],\n",
       " \n",
       " \n",
       "         [[[0.1765, 0.1765, 0.1765,  ..., 0.1137, 0.1137, 0.1137],\n",
       "           [0.1765, 0.1765, 0.1765,  ..., 0.1137, 0.1137, 0.1137],\n",
       "           [0.1765, 0.1765, 0.1765,  ..., 0.1137, 0.1137, 0.1137],\n",
       "           ...,\n",
       "           [0.2627, 0.2627, 0.2627,  ..., 0.2510, 0.2510, 0.2510],\n",
       "           [0.2627, 0.2627, 0.2627,  ..., 0.2510, 0.2510, 0.2510],\n",
       "           [0.2627, 0.2627, 0.2627,  ..., 0.2510, 0.2510, 0.2510]],\n",
       " \n",
       "          [[0.1922, 0.1922, 0.1922,  ..., 0.1373, 0.1373, 0.1373],\n",
       "           [0.1922, 0.1922, 0.1922,  ..., 0.1373, 0.1373, 0.1373],\n",
       "           [0.1922, 0.1922, 0.1922,  ..., 0.1373, 0.1373, 0.1373],\n",
       "           ...,\n",
       "           [0.2824, 0.2824, 0.2824,  ..., 0.2824, 0.2824, 0.2824],\n",
       "           [0.2824, 0.2824, 0.2824,  ..., 0.2824, 0.2824, 0.2824],\n",
       "           [0.2824, 0.2824, 0.2824,  ..., 0.2824, 0.2824, 0.2824]],\n",
       " \n",
       "          [[0.1569, 0.1569, 0.1569,  ..., 0.1098, 0.1098, 0.1098],\n",
       "           [0.1569, 0.1569, 0.1569,  ..., 0.1098, 0.1098, 0.1098],\n",
       "           [0.1569, 0.1569, 0.1569,  ..., 0.1098, 0.1098, 0.1098],\n",
       "           ...,\n",
       "           [0.2392, 0.2392, 0.2392,  ..., 0.2196, 0.2196, 0.2196],\n",
       "           [0.2392, 0.2392, 0.2392,  ..., 0.2196, 0.2196, 0.2196],\n",
       "           [0.2392, 0.2392, 0.2392,  ..., 0.2196, 0.2196, 0.2196]]],\n",
       " \n",
       " \n",
       "         [[[0.2157, 0.2157, 0.2157,  ..., 0.1412, 0.1412, 0.1412],\n",
       "           [0.2157, 0.2157, 0.2157,  ..., 0.1412, 0.1412, 0.1412],\n",
       "           [0.2157, 0.2157, 0.2157,  ..., 0.1412, 0.1412, 0.1412],\n",
       "           ...,\n",
       "           [0.1569, 0.1569, 0.1569,  ..., 0.1529, 0.1529, 0.1529],\n",
       "           [0.1569, 0.1569, 0.1569,  ..., 0.1529, 0.1529, 0.1529],\n",
       "           [0.1569, 0.1569, 0.1569,  ..., 0.1529, 0.1529, 0.1529]],\n",
       " \n",
       "          [[0.2549, 0.2549, 0.2549,  ..., 0.1725, 0.1725, 0.1725],\n",
       "           [0.2549, 0.2549, 0.2549,  ..., 0.1725, 0.1725, 0.1725],\n",
       "           [0.2549, 0.2549, 0.2549,  ..., 0.1725, 0.1725, 0.1725],\n",
       "           ...,\n",
       "           [0.1922, 0.1922, 0.1922,  ..., 0.1725, 0.1725, 0.1725],\n",
       "           [0.1922, 0.1922, 0.1922,  ..., 0.1725, 0.1725, 0.1725],\n",
       "           [0.1922, 0.1922, 0.1922,  ..., 0.1725, 0.1725, 0.1725]],\n",
       " \n",
       "          [[0.2039, 0.2039, 0.2039,  ..., 0.1373, 0.1373, 0.1373],\n",
       "           [0.2039, 0.2039, 0.2039,  ..., 0.1373, 0.1373, 0.1373],\n",
       "           [0.2039, 0.2039, 0.2039,  ..., 0.1373, 0.1373, 0.1373],\n",
       "           ...,\n",
       "           [0.1490, 0.1490, 0.1490,  ..., 0.1451, 0.1451, 0.1451],\n",
       "           [0.1490, 0.1490, 0.1490,  ..., 0.1451, 0.1451, 0.1451],\n",
       "           [0.1490, 0.1490, 0.1490,  ..., 0.1451, 0.1451, 0.1451]]],\n",
       " \n",
       " \n",
       "         ...,\n",
       " \n",
       " \n",
       "         [[[0.1608, 0.1608, 0.1608,  ..., 0.1725, 0.1569, 0.1569],\n",
       "           [0.1686, 0.1686, 0.1608,  ..., 0.1765, 0.1686, 0.1686],\n",
       "           [0.1647, 0.1647, 0.1608,  ..., 0.1804, 0.1725, 0.1725],\n",
       "           ...,\n",
       "           [0.1569, 0.1569, 0.1569,  ..., 0.1216, 0.1098, 0.1098],\n",
       "           [0.1608, 0.1608, 0.1569,  ..., 0.1294, 0.1216, 0.1216],\n",
       "           [0.1608, 0.1608, 0.1608,  ..., 0.1373, 0.1333, 0.1333]],\n",
       " \n",
       "          [[0.1961, 0.1961, 0.1922,  ..., 0.2000, 0.1882, 0.1882],\n",
       "           [0.1961, 0.1961, 0.1922,  ..., 0.2039, 0.1922, 0.1922],\n",
       "           [0.2000, 0.2000, 0.1961,  ..., 0.2118, 0.2039, 0.2039],\n",
       "           ...,\n",
       "           [0.1843, 0.1843, 0.1882,  ..., 0.1451, 0.1333, 0.1333],\n",
       "           [0.1882, 0.1882, 0.1882,  ..., 0.1529, 0.1451, 0.1451],\n",
       "           [0.1882, 0.1882, 0.1882,  ..., 0.1569, 0.1529, 0.1529]],\n",
       " \n",
       "          [[0.1686, 0.1686, 0.1686,  ..., 0.1725, 0.1608, 0.1608],\n",
       "           [0.1686, 0.1686, 0.1647,  ..., 0.1765, 0.1686, 0.1686],\n",
       "           [0.1725, 0.1725, 0.1647,  ..., 0.1843, 0.1882, 0.1882],\n",
       "           ...,\n",
       "           [0.1608, 0.1608, 0.1608,  ..., 0.1294, 0.1216, 0.1216],\n",
       "           [0.1647, 0.1647, 0.1608,  ..., 0.1333, 0.1255, 0.1255],\n",
       "           [0.1647, 0.1647, 0.1647,  ..., 0.1333, 0.1294, 0.1294]]],\n",
       " \n",
       " \n",
       "         [[[0.1098, 0.1098, 0.1098,  ..., 0.1765, 0.1765, 0.1765],\n",
       "           [0.1098, 0.1098, 0.1098,  ..., 0.1765, 0.1765, 0.1765],\n",
       "           [0.1098, 0.1098, 0.1098,  ..., 0.1765, 0.1765, 0.1765],\n",
       "           ...,\n",
       "           [0.0667, 0.0667, 0.0667,  ..., 0.2980, 0.2980, 0.2980],\n",
       "           [0.0667, 0.0667, 0.0667,  ..., 0.2980, 0.2980, 0.2980],\n",
       "           [0.0667, 0.0667, 0.0667,  ..., 0.2980, 0.2980, 0.2980]],\n",
       " \n",
       "          [[0.1333, 0.1333, 0.1333,  ..., 0.2314, 0.2314, 0.2314],\n",
       "           [0.1333, 0.1333, 0.1333,  ..., 0.2314, 0.2314, 0.2314],\n",
       "           [0.1333, 0.1333, 0.1333,  ..., 0.2314, 0.2314, 0.2314],\n",
       "           ...,\n",
       "           [0.0824, 0.0824, 0.0824,  ..., 0.3451, 0.3451, 0.3451],\n",
       "           [0.0824, 0.0824, 0.0824,  ..., 0.3451, 0.3451, 0.3451],\n",
       "           [0.0824, 0.0824, 0.0824,  ..., 0.3451, 0.3451, 0.3451]],\n",
       " \n",
       "          [[0.1294, 0.1294, 0.1294,  ..., 0.2706, 0.2706, 0.2706],\n",
       "           [0.1294, 0.1294, 0.1294,  ..., 0.2706, 0.2706, 0.2706],\n",
       "           [0.1294, 0.1294, 0.1294,  ..., 0.2706, 0.2706, 0.2706],\n",
       "           ...,\n",
       "           [0.0824, 0.0824, 0.0824,  ..., 0.2941, 0.2941, 0.2941],\n",
       "           [0.0824, 0.0824, 0.0824,  ..., 0.2941, 0.2941, 0.2941],\n",
       "           [0.0824, 0.0824, 0.0824,  ..., 0.2941, 0.2941, 0.2941]]],\n",
       " \n",
       " \n",
       "         [[[0.1294, 0.1294, 0.1294,  ..., 0.4118, 0.4118, 0.4118],\n",
       "           [0.1294, 0.1294, 0.1294,  ..., 0.4118, 0.4118, 0.4118],\n",
       "           [0.1294, 0.1294, 0.1294,  ..., 0.4118, 0.4118, 0.4118],\n",
       "           ...,\n",
       "           [0.2627, 0.2627, 0.2627,  ..., 0.1333, 0.1333, 0.1333],\n",
       "           [0.2627, 0.2627, 0.2627,  ..., 0.1333, 0.1333, 0.1333],\n",
       "           [0.2627, 0.2627, 0.2627,  ..., 0.1333, 0.1333, 0.1333]],\n",
       " \n",
       "          [[0.1569, 0.1569, 0.1569,  ..., 0.4627, 0.4627, 0.4627],\n",
       "           [0.1569, 0.1569, 0.1569,  ..., 0.4627, 0.4627, 0.4627],\n",
       "           [0.1569, 0.1569, 0.1569,  ..., 0.4627, 0.4627, 0.4627],\n",
       "           ...,\n",
       "           [0.3020, 0.3020, 0.3020,  ..., 0.1529, 0.1529, 0.1529],\n",
       "           [0.3020, 0.3020, 0.3020,  ..., 0.1529, 0.1529, 0.1529],\n",
       "           [0.3020, 0.3020, 0.3020,  ..., 0.1529, 0.1529, 0.1529]],\n",
       " \n",
       "          [[0.1373, 0.1373, 0.1373,  ..., 0.4157, 0.4157, 0.4157],\n",
       "           [0.1373, 0.1373, 0.1373,  ..., 0.4157, 0.4157, 0.4157],\n",
       "           [0.1373, 0.1373, 0.1373,  ..., 0.4157, 0.4157, 0.4157],\n",
       "           ...,\n",
       "           [0.2588, 0.2588, 0.2588,  ..., 0.1294, 0.1294, 0.1294],\n",
       "           [0.2588, 0.2588, 0.2588,  ..., 0.1294, 0.1294, 0.1294],\n",
       "           [0.2588, 0.2588, 0.2588,  ..., 0.1294, 0.1294, 0.1294]]]]),\n",
       " tensor([1, 0, 1, 0, 1, 0, 4, 4, 1, 0, 1, 1, 1, 0, 1, 1, 0, 1, 4, 1, 1, 0, 1, 1,\n",
       "         0, 1, 1, 0, 1, 0, 1, 1, 0, 0, 1, 0, 1, 1, 4, 0, 1, 0, 1, 4, 0, 0, 0, 1,\n",
       "         4, 1, 0, 1, 1, 4, 1, 0, 3, 1, 1, 5, 1, 0, 1, 1, 1, 1, 0, 0, 1, 1, 0, 1,\n",
       "         1, 1, 1, 0, 1, 5, 1, 1, 1, 0, 1, 1, 1, 1, 1, 1, 0, 1, 0, 1, 1, 1, 1, 1,\n",
       "         1, 1, 1, 4, 0, 1, 1, 1, 1, 4, 1, 1, 5, 1, 0, 1, 1, 0, 1, 1, 4, 0, 4, 1,\n",
       "         1, 0, 1, 1, 1, 0, 1, 1])]"
      ]
     },
     "execution_count": 7,
     "metadata": {},
     "output_type": "execute_result"
    }
   ],
   "source": [
    "x"
   ]
  },
  {
   "cell_type": "code",
   "execution_count": 14,
   "metadata": {},
   "outputs": [
    {
     "data": {
      "text/plain": [
       "(4309,)"
      ]
     },
     "execution_count": 14,
     "metadata": {},
     "output_type": "execute_result"
    }
   ],
   "source": [
    "task_info['train_idxs'].shape"
   ]
  },
  {
   "cell_type": "markdown",
   "metadata": {},
   "source": [
    "## Citywise sample list generation"
   ]
  },
  {
   "cell_type": "code",
   "execution_count": 5,
   "metadata": {},
   "outputs": [],
   "source": [
    "cities = os.listdir(root + \"/leftImg8bit/train/\")"
   ]
  },
  {
   "cell_type": "code",
   "execution_count": 7,
   "metadata": {},
   "outputs": [
    {
     "name": "stdout",
     "output_type": "stream",
     "text": [
      "Creating train dataset on only ['aachen'] cities\n",
      "Creating train dataset on only ['bochum'] cities\n",
      "Creating train dataset on only ['bremen'] cities\n",
      "Creating train dataset on only ['cologne'] cities\n",
      "Creating train dataset on only ['darmstadt'] cities\n",
      "Creating train dataset on only ['dusseldorf'] cities\n",
      "Creating train dataset on only ['erfurt'] cities\n",
      "Creating train dataset on only ['hamburg'] cities\n",
      "Creating train dataset on only ['hanover'] cities\n",
      "Creating train dataset on only ['jena'] cities\n",
      "Creating train dataset on only ['strasbourg'] cities\n",
      "Creating train dataset on only ['tubingen'] cities\n",
      "Creating train dataset on only ['ulm'] cities\n",
      "Creating train dataset on only ['weimar'] cities\n"
     ]
    }
   ],
   "source": [
    "for city in cities:\n",
    "    x=CityscapesClassification.generate_sample_list(root, mode='fine', write_filename=os.path.join(path, city), train_cities=[city])"
   ]
  },
  {
   "cell_type": "code",
   "execution_count": 7,
   "metadata": {},
   "outputs": [],
   "source": [
    "x=CityscapesClassification.generate_sample_list(root, mode='fine', write_filename=os.path.join(root, \"sample_lists\", \"pedvehicleminres50\"), min_res=50)"
   ]
  },
  {
   "cell_type": "code",
   "execution_count": 8,
   "metadata": {},
   "outputs": [],
   "source": [
    "import pandas as pd"
   ]
  },
  {
   "cell_type": "code",
   "execution_count": 12,
   "metadata": {},
   "outputs": [],
   "source": [
    "COLUMN_ORDER = [\"idx\", \"imgpath\", \"class\", \"x0\", \"y0\", \"x1\", \"y1\"]\n",
    "d=pd.read_csv(os.path.join(root, \"sample_lists\", \"pedvehicle_train_fine.csv\"), names=COLUMN_ORDER)"
   ]
  },
  {
   "cell_type": "code",
   "execution_count": 16,
   "metadata": {},
   "outputs": [],
   "source": [
    "import matplotlib.pyplot as plt"
   ]
  },
  {
   "cell_type": "code",
   "execution_count": 21,
   "metadata": {
    "scrolled": true
   },
   "outputs": [
    {
     "data": {
      "text/plain": [
       "Text(0.5, 1.0, 'Resolution distribution, pedvehicle cityscapes')"
      ]
     },
     "execution_count": 21,
     "metadata": {},
     "output_type": "execute_result"
    },
    {
     "data": {
      "image/png": "[encoded data removed]",
      "text/plain": [
       "<Figure size 432x288 with 1 Axes>"
      ]
     },
     "metadata": {
      "needs_background": "light"
     },
     "output_type": "display_data"
    }
   ],
   "source": [
    "plt.hist(d[\"x1\"]-d[\"x0\"], bins=[0,50,100,150,200,250,300])\n",
    "plt.xlabel('Image width')\n",
    "plt.ylabel('Count')\n",
    "plt.title(\"Resolution distribution, pedvehicle cityscapes\")"
   ]
  },
  {
   "cell_type": "code",
   "execution_count": null,
   "metadata": {},
   "outputs": [],
   "source": []
  }
 ],
 "metadata": {
  "kernelspec": {
   "display_name": "Python 3",
   "language": "python",
   "name": "python3"
  },
  "language_info": {
   "codemirror_mode": {
    "name": "ipython",
    "version": 3
   },
   "file_extension": ".py",
   "mimetype": "text/x-python",
   "name": "python",
   "nbconvert_exporter": "python",
   "pygments_lexer": "ipython3",
   "version": "3.7.3"
  }
 },
 "nbformat": 4,
 "nbformat_minor": 2
}
